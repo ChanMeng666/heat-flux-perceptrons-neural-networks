{
 "cells": [
  {
   "cell_type": "markdown",
   "id": "ae5125db3c6ee0ce",
   "metadata": {},
   "source": [
    "# **Part 2: Feedforward network Case study – Multi-layer Perceptron model for predicting heat influx into a home**\n",
    "\n",
    "## 1. Explore data"
   ]
  },
  {
   "cell_type": "code",
   "execution_count": null,
   "id": "19dbe6c145e3ce36",
   "metadata": {
    "ExecuteTime": {
     "end_time": "2024-10-01T02:37:55.433127Z",
     "start_time": "2024-10-01T02:37:54.251144Z"
    }
   },
   "outputs": [],
   "source": [
    "# Data Exploration Code\n",
    "import pandas as pd\n",
    "import numpy as np\n",
    "import matplotlib.pyplot as plt\n",
    "from sklearn.preprocessing import MinMaxScaler\n",
    "import seaborn as sns\n",
    "\n",
    "# Set random seed for reproducibility\n",
    "seed = 42\n",
    "np.random.seed(seed)\n",
    "\n",
    "# Step 1: Load the data\n",
    "file_path = 'Heat_Influx_insulation_east_south_north.csv'\n",
    "data = pd.read_csv(file_path)\n",
    "\n",
    "# Display the first few rows and basic statistics\n",
    "print(\"First few rows of the dataset:\")\n",
    "print(data.head())\n",
    "print(\"\\nBasic statistics of the dataset:\")\n",
    "print(data.describe())\n",
    "\n",
    "# Define features and target\n",
    "features = ['Insulation', 'East', 'South', 'North']\n",
    "target = 'HeatFlux'\n",
    "\n",
    "# Normalize the data\n",
    "scaler = MinMaxScaler()\n",
    "data_normalized = pd.DataFrame(\n",
    "    scaler.fit_transform(data[features + [target]]),\n",
    "    columns=features + [target]\n",
    ")\n",
    "\n",
    "# 1. Plotting relationships between inputs and target using first 30 datapoints\n",
    "plt.figure(figsize=(15, 10))\n",
    "first_30 = data.iloc[:30]\n",
    "for i, feature in enumerate(features, 1):\n",
    "    plt.subplot(2, 2, i)\n",
    "    plt.plot(first_30[feature], first_30[target], 'o-')\n",
    "    plt.xlabel(feature)\n",
    "    plt.ylabel('Heat Flux')\n",
    "    plt.title(f'{feature} vs Heat Flux (First 30 datapoints)')\n",
    "plt.tight_layout()\n",
    "plt.show()\n",
    "\n",
    "# 2. Correlation heatmap\n",
    "plt.figure(figsize=(10, 8))\n",
    "sns.heatmap(data[features + [target]].corr(), annot=True, cmap='coolwarm')\n",
    "plt.title('Correlation Heatmap')\n",
    "plt.show()\n",
    "\n",
    "# 3. Box plots for feature distributions\n",
    "plt.figure(figsize=(12, 6))\n",
    "data.boxplot(column=features + [target])\n",
    "plt.title('Distribution of Features and Target')\n",
    "plt.xticks(rotation=45)\n",
    "plt.show()\n",
    "\n",
    "# 4. Print correlation coefficients with target\n",
    "correlations = data[features].corrwith(data[target])\n",
    "print(\"\\nCorrelation coefficients with Heat Flux:\")\n",
    "for feature, corr in correlations.items():\n",
    "    print(f\"{feature}: {corr:.4f}\")\n",
    "\n",
    "# Determine most influential features\n",
    "abs_correlations = correlations.abs()\n",
    "most_influential = abs_correlations.nlargest(2)\n",
    "print(\"\\nMost influential features:\")\n",
    "for feature, corr in most_influential.items():\n",
    "    relationship = \"positive\" if correlations[feature] > 0 else \"negative\"\n",
    "    print(f\"{feature}: {relationship} correlation ({correlations[feature]:.4f})\")"
   ]
  },
  {
   "cell_type": "markdown",
   "id": "681621e39f70956",
   "metadata": {},
   "source": [
    "### The observations and comments on the relationship between inputs and the target (HeatFlux):\n",
    "\n",
    "1. **Insulation vs HeatFlux**:\n",
    "   There appears to be a strong positive correlation between insulation and heat flux. As insulation increases, the heat flux generally increases as well. This relationship is not perfectly linear, but the trend is clear and consistent across the dataset. The correlation coefficient of 0.6276 supports this observation.\n",
    "\n",
    "2. **East vs HeatFlux**:\n",
    "   The relationship between the East orientation and heat flux is less clear. There seems to be a weak positive correlation, but it's not as pronounced as with insulation. The scattered plot shows no strong pattern, and the correlation coefficient of 0.1024 confirms this weak positive relationship.\n",
    "\n",
    "3. **South vs HeatFlux**:\n",
    "   Similar to the East orientation, the South orientation shows a weak positive correlation with heat flux. The plot displays a scattered pattern with no clear trend. The correlation coefficient of 0.1121 supports this observation of a weak positive relationship.\n",
    "\n",
    "4. **North vs HeatFlux**:\n",
    "   The North orientation demonstrates a strong negative correlation with heat flux. As the North orientation increases, the heat flux tends to decrease significantly. This relationship is the most pronounced among all inputs, showing a clear downward trend in the plot. The correlation coefficient of -0.8488 strongly supports this observation."
   ]
  }
 ],
 "metadata": {
  "kernelspec": {
   "display_name": "Python 3",
   "language": "python",
   "name": "python3"
  },
  "language_info": {
   "codemirror_mode": {
    "name": "ipython",
    "version": 2
   },
   "file_extension": ".py",
   "mimetype": "text/x-python",
   "name": "python",
   "nbconvert_exporter": "python",
   "pygments_lexer": "ipython2",
   "version": "2.7.6"
  }
 },
 "nbformat": 4,
 "nbformat_minor": 5
}
